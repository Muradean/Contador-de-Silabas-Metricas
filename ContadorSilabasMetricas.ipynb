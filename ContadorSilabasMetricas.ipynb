{
  "nbformat": 4,
  "nbformat_minor": 0,
  "metadata": {
    "accelerator": "GPU",
    "colab": {
      "name": "ContadorSilabasMetricas_Keras.ipynb",
      "provenance": [],
      "collapsed_sections": [],
      "toc_visible": true
    },
    "kernelspec": {
      "display_name": "Python 3",
      "name": "python3"
    },
    "language_info": {
      "name": "python"
    }
  },
  "cells": [
    {
      "cell_type": "markdown",
      "metadata": {
        "id": "QdiEEW9rafbt"
      },
      "source": [
        "# Escansão de versos usando modelo SEQ2SEQ.\n",
        "### Notebook por Pedro Esteves <br>\n",
        "Código baseado e adaptado de: <br>\n",
        "https://keras.io/examples/nlp/lstm_seq2seq/  (modelo LSTM original)<br>\n",
        "https://stackoverflow.com/questions/50815354/seq2seq-bidirectional-encoder-decoder-in-keras (encoder BLSTM) <br>\n",
        "https://natura.di.uminho.pt/download/sources/Dictionaries/wordlists/ (Lista de palavras usadas para treinar o modelo) <br>\n",
        "\n"
      ]
    },
    {
      "cell_type": "code",
      "metadata": {
        "id": "KFcgaZDhqGj3"
      },
      "source": [
        ""
      ],
      "execution_count": null,
      "outputs": []
    },
    {
      "cell_type": "markdown",
      "metadata": {
        "id": "4A4PSOFEbP-g"
      },
      "source": [
        "# 2 Problemas\n",
        "\n",
        "### Contagem de sílabas:\n",
        "\n",
        "\n",
        "### <b>Classificação da sílaba tónica: </b>\n",
        "\n",
        "Algo que aprendemos durante a escola no ensino básico foi a classificação de palavras quanto à sua sílaba tónica. Na língua portuguesa cada palavra pode ser:\n",
        "\n",
        "<p><font color='red'>- Aguda (se a sílaba tónica for última sílaba) </p>\n",
        "Ex: In|<b>ês</b>|\n",
        "\n",
        "<p><font color='green'>- Grave (se sílaba tónica for a penúltima sílaba) <font/> </p>\n",
        "Ex: a<b>|do</b>|ra|<p>\n",
        "\n",
        "<p><font color='blue'>-  Exdrúxula (se a sílaba tónica for a antepenúltima sílaba da palavra) </p>\n",
        "Ex: Ma|te<b>|má|</b>ti|ca|\n",
        "\n",
        "<p style=\"color:red\"><b> NÃO EXISTEM PALAVRAS COM A SÍLABA TÓNICA NA ANTE-ANTEPENÚLTIMA SÍLABA!</b> </p>\n",
        "\n",
        "Para executarmos a escansão de versos precisamos de ter em conta a seguintes regras:\n",
        "- Contar o número de sílabas de cada verso até à última sílaba tónica da última palavra do verso.\n",
        "<p><b>Ex 1:</b> <font color=\"brown\"> \"As armas e os barões assinalados...\" -> As| ar|mas| eos| ba|rões| a|ssi|na|<b>la</b>...</p></font>\n",
        "\n",
        "  Caso contássemos todas as sílabas, o verso acima teria 11, mas como se conta apenas até à sílaba tónica da última palavra, apenas temos 10.<br> \n",
        "\n",
        "\n",
        "\n",
        "- Se a última letra duma palavra for uma vogal átona e a primeira letra da primeira sílaba da palavra seguinte (no mesmo verso) for uma vogal ou um h mudo contam-se estas duas sílabas apenas como uma (sinalefa): \n",
        " <p><b>Ex 2:</b> <font color=\"brown\"> \"Se a tanto me ajudar o engenho e arte...\" -> <b>Sea</b>| tan|to| <b>mea</b>|ju|dar| <b>oen</b>|ge|nhoear| </p> </font>\n",
        "\n",
        " \"e\" funde-se com \"os\" e conta apenas como uma sílaba: \"eos\" </p>\n"
      ]
    },
    {
      "cell_type": "code",
      "metadata": {
        "id": "d6wYjJgwj0R7"
      },
      "source": [
        " sea$ tan$to| mea|ju|dar$ oen|ge$nhoe$ ar$te| "
      ],
      "execution_count": 1,
      "outputs": []
    },
    {
      "cell_type": "code",
      "metadata": {
        "id": "UWHFUe_CZG4o",
        "colab": {
          "base_uri": "https://localhost:8080/"
        },
        "outputId": "ee5fb552-ebfd-4bc2-954f-390967fb4507"
      },
      "source": [
        "from google.colab import drive\n",
        "drive.mount('/content/drive')\n",
        "model_path = \"/content/drive/MyDrive/syllabe_model\""
      ],
      "execution_count": 2,
      "outputs": [
        {
          "output_type": "stream",
          "text": [
            "Mounted at /content/drive\n"
          ],
          "name": "stdout"
        }
      ]
    },
    {
      "cell_type": "code",
      "metadata": {
        "id": "vOkwVhcEowY6",
        "colab": {
          "base_uri": "https://localhost:8080/",
          "height": 35
        },
        "outputId": "17db4e25-8205-4a76-d801-ed54853477cb"
      },
      "source": [
        "import numpy as np\n",
        "import tensorflow as tf\n",
        "from tensorflow import keras\n",
        "import os\n",
        "import copy\n",
        "import random\n",
        "os.getcwd()"
      ],
      "execution_count": 3,
      "outputs": [
        {
          "output_type": "execute_result",
          "data": {
            "application/vnd.google.colaboratory.intrinsic+json": {
              "type": "string"
            },
            "text/plain": [
              "'/content'"
            ]
          },
          "metadata": {
            "tags": []
          },
          "execution_count": 3
        }
      ]
    },
    {
      "cell_type": "code",
      "metadata": {
        "id": "Q4AcBjUOo3g4"
      },
      "source": [
        "batch_size = 64 # Batch size for training.\n",
        "epochs = 8  # Number of epochs to train for.\n",
        "latent_dim = 1024  # Latent dimensionality of the encoding space.\n",
        "num_samples = 120000  # Number of samples to train on.\n",
        "# Path to the data txt file on disk.\n",
        "data_path =\"/content/dados_escansao.txt\"\n"
      ],
      "execution_count": 4,
      "outputs": []
    },
    {
      "cell_type": "code",
      "metadata": {
        "id": "Am2ut7glo6GJ",
        "colab": {
          "base_uri": "https://localhost:8080/"
        },
        "outputId": "9a976354-ec39-41b8-8fe6-aa0b30a6e920"
      },
      "source": [
        "def process_line(line):\n",
        "  line = line.lower()\n",
        "  for c in ['\\x83', '\\xa0', '¢', '£', '§', '©', 'ª', '\\xad', '®', '³', '´', 'µ', 'º', 'Â', 'Ã','\\x81', '\\x8d', '\\x93']:\n",
        "    line = line.replace(c,\"\")\n",
        "  return line\n",
        "\n",
        "# Vectorize the data.\n",
        "input_texts = []\n",
        "target_texts = []\n",
        "input_characters = set()\n",
        "target_characters = set()\n",
        "with open(data_path, \"r\", encoding=\"utf-8\") as f:\n",
        "    lines = f.read().split(\"\\n\")\n",
        "    new_lines = copy.deepcopy(lines)\n",
        "    for l in lines:\n",
        "      if len(l) <= 7 or l[0:9] == \"desigual\t\" or l.split(\"\\t\")[0] == \"igual\" or l.split(\"\\t\")[0] == \"qual\":\n",
        "        for x in range(0,3):\n",
        "          new_lines.append(l)\n",
        "    lines = new_lines\n",
        "\n",
        "for line in lines[: min(num_samples, len(lines) - 1)]:\n",
        "    line = process_line(line)\n",
        "    input_text, target_text = line.split(\"\\t\")\n",
        "\n",
        "    input_text = input_text.strip()\n",
        "    target_text = target_text.strip()\n",
        "    # We use \"tab\" as the \"start sequence\" character\n",
        "    # for the targets, and \"\\n\" as \"end sequence\" character.\n",
        "    target_text = \"\\t\" + target_text + \"\\n\"\n",
        "    input_texts.append(input_text)\n",
        "    target_texts.append(target_text)\n",
        "    for char in input_text:\n",
        "        if char not in input_characters:\n",
        "            input_characters.add(char)\n",
        "    for char in target_text:\n",
        "        if char not in target_characters:\n",
        "            target_characters.add(char)\n",
        "\n",
        "input_characters = sorted(list(input_characters))\n",
        "target_characters = sorted(list(target_characters))\n",
        "num_encoder_tokens = len(input_characters)\n",
        "num_decoder_tokens = len(target_characters)\n",
        "max_encoder_seq_length = max([len(txt) for txt in input_texts])\n",
        "max_decoder_seq_length = max([len(txt) for txt in target_texts])\n",
        "\n",
        "print(\"Number of samples:\", len(input_texts))\n",
        "print(\"Number of unique input tokens:\", num_encoder_tokens)\n",
        "print(\"Number of unique output tokens:\", num_decoder_tokens)\n",
        "print(\"Max sequence length for inputs:\", max_encoder_seq_length)\n",
        "print(\"Max sequence length for outputs:\", max_decoder_seq_length)\n",
        "\n",
        "input_token_index = dict([(char, i) for i, char in enumerate(input_characters)])\n",
        "target_token_index = dict([(char, i) for i, char in enumerate(target_characters)])\n",
        "\n",
        "encoder_input_data = np.zeros(\n",
        "    (len(input_texts), max_encoder_seq_length, num_encoder_tokens), dtype=\"float32\"\n",
        ")\n",
        "decoder_input_data = np.zeros(\n",
        "    (len(input_texts), max_decoder_seq_length, num_decoder_tokens), dtype=\"float32\"\n",
        ")\n",
        "decoder_target_data = np.zeros(\n",
        "    (len(input_texts), max_decoder_seq_length, num_decoder_tokens), dtype=\"float32\"\n",
        ")\n",
        "\n",
        "for i, (input_text, target_text) in enumerate(zip(input_texts, target_texts)):\n",
        "    for t, char in enumerate(input_text):\n",
        "        encoder_input_data[i, t, input_token_index[char]] = 1.0\n",
        "    #encoder_input_data[i, t + 1 :, input_token_index[\" \"]] = 1.0\n",
        "    for t, char in enumerate(target_text):\n",
        "        # decoder_target_data is ahead of decoder_input_data by one timestep\n",
        "        decoder_input_data[i, t, target_token_index[char]] = 1.0\n",
        "        if t > 0:\n",
        "            # decoder_target_data will be ahead by one timestep\n",
        "            # and will not include the start character.\n",
        "            decoder_target_data[i, t - 1, target_token_index[char]] = 1.0\n",
        "    #decoder_input_data[i, t + 1 :, target_token_index[\" \"]] = 1.0\n",
        "    #decoder_target_data[i, t:, target_token_index[\" \"]] = 1.0\n",
        "print(input_characters)\n",
        "print(target_characters)"
      ],
      "execution_count": 8,
      "outputs": [
        {
          "output_type": "stream",
          "text": [
            "Number of samples: 120000\n",
            "Number of unique input tokens: 40\n",
            "Number of unique output tokens: 42\n",
            "Max sequence length for inputs: 28\n",
            "Max sequence length for outputs: 41\n",
            "['-', 'a', 'b', 'c', 'd', 'e', 'f', 'g', 'h', 'i', 'j', 'k', 'l', 'm', 'n', 'o', 'p', 'q', 'r', 's', 't', 'u', 'v', 'w', 'x', 'y', 'z', 'à', 'á', 'â', 'ã', 'ç', 'é', 'ê', 'í', 'î', 'ó', 'ô', 'õ', 'ú']\n",
            "['\\t', '\\n', '$', 'a', 'b', 'c', 'd', 'e', 'f', 'g', 'h', 'i', 'j', 'k', 'l', 'm', 'n', 'o', 'p', 'q', 'r', 's', 't', 'u', 'v', 'w', 'x', 'y', 'z', '|', 'à', 'á', 'â', 'ã', 'ç', 'é', 'ê', 'í', 'ó', 'ô', 'õ', 'ú']\n"
          ],
          "name": "stdout"
        }
      ]
    },
    {
      "cell_type": "code",
      "metadata": {
        "id": "9Bsl79CUo8gq"
      },
      "source": [
        "from keras.layers import LSTM, Bidirectional,Concatenate,Input,Dense\n",
        "\n",
        "#Encoder\n",
        "encoder_inputs = keras.Input(shape=(None, num_encoder_tokens))\n",
        "encoder = Bidirectional(LSTM(latent_dim, return_state=Trues))\n",
        "encoder_outputs, forward_h, forward_c, backward_h, backward_c = encoder(encoder_inputs)\n",
        "state_h = Concatenate()([forward_h, backward_h])\n",
        "state_c = Concatenate()([forward_c, backward_c])\n",
        "encoder_states = [state_h, state_c]\n",
        "\n",
        "\n",
        "#Decoder\n",
        "n_output=num_decoder_tokens\n",
        "decoder_inputs = Input(shape=(None, num_decoder_tokens))    \n",
        "decoder_lstm = LSTM(latent_dim*2, return_sequences=True, return_state=True)\n",
        "decoder_outputs, _, _ = decoder_lstm(decoder_inputs, initial_state=encoder_states)\n",
        "decoder_dense = Dense(n_output, activation='softmax')\n",
        "decoder_outputs = decoder_dense(decoder_outputs)\n",
        "model = keras.Model([encoder_inputs, decoder_inputs], decoder_outputs)\n",
        "\n"
      ],
      "execution_count": 9,
      "outputs": []
    },
    {
      "cell_type": "code",
      "metadata": {
        "id": "t2BUEqrOo_l5",
        "colab": {
          "base_uri": "https://localhost:8080/"
        },
        "outputId": "b8cd22e0-aa85-45a5-dde2-0ad313a6273c"
      },
      "source": [
        "model.compile(\n",
        "    optimizer=\"rmsprop\", loss=\"categorical_crossentropy\", metrics=[\"accuracy\"]\n",
        ")\n",
        "\n",
        "\n",
        "#model = keras.models.load_model(model_path)\n",
        "\n",
        "\n",
        "#treina o modelo\n",
        "history = model.fit(\n",
        "    [encoder_input_data, decoder_input_data],\n",
        "    decoder_target_data,\n",
        "    batch_size=batch_size, #batch_size,\n",
        "    epochs=epochs, #epochs,\n",
        "    validation_split=0.2,\n",
        ")\n",
        "\n",
        "# Save model\n",
        "model_path = \"drive/MyDrive/contador_de_silabas_metricas/\"\n",
        "model.save(model_path)\n",
        "model_path = \"drive/MyDrive/contador_de_silabas_metricas_final/\"\n",
        "model.save(model_path)\n",
        "\n",
        "model_path = \"drive/MyDrive/contador_de_silabas_metricas_backup/\"\n",
        "model.save(model_path)"
      ],
      "execution_count": 10,
      "outputs": [
        {
          "output_type": "stream",
          "text": [
            "Epoch 1/8\n",
            "1500/1500 [==============================] - 242s 139ms/step - loss: 0.9417 - accuracy: 0.1350 - val_loss: 0.0494 - val_accuracy: 0.3862\n",
            "Epoch 2/8\n",
            "1500/1500 [==============================] - 213s 142ms/step - loss: 0.0515 - accuracy: 0.3828 - val_loss: 0.0078 - val_accuracy: 0.3933\n",
            "Epoch 3/8\n",
            "1500/1500 [==============================] - 212s 141ms/step - loss: 0.0126 - accuracy: 0.3911 - val_loss: 0.0052 - val_accuracy: 0.3937\n",
            "Epoch 4/8\n",
            "1500/1500 [==============================] - 211s 141ms/step - loss: 0.0067 - accuracy: 0.3930 - val_loss: 0.0033 - val_accuracy: 0.3941\n",
            "Epoch 5/8\n",
            "1500/1500 [==============================] - 211s 141ms/step - loss: 0.0037 - accuracy: 0.3941 - val_loss: 0.0026 - val_accuracy: 0.3943\n",
            "Epoch 6/8\n",
            "1500/1500 [==============================] - 210s 140ms/step - loss: 0.0028 - accuracy: 0.3932 - val_loss: 0.0019 - val_accuracy: 0.3944\n",
            "Epoch 7/8\n",
            "1500/1500 [==============================] - 210s 140ms/step - loss: 0.0025 - accuracy: 0.3937 - val_loss: 0.0018 - val_accuracy: 0.3944\n",
            "Epoch 8/8\n",
            "1500/1500 [==============================] - 210s 140ms/step - loss: 0.0021 - accuracy: 0.3942 - val_loss: 0.0017 - val_accuracy: 0.3945\n"
          ],
          "name": "stdout"
        },
        {
          "output_type": "stream",
          "text": [
            "WARNING:absl:Found untraced functions such as lstm_cell_3_layer_call_and_return_conditional_losses, lstm_cell_3_layer_call_fn, lstm_cell_1_layer_call_and_return_conditional_losses, lstm_cell_1_layer_call_fn, lstm_cell_2_layer_call_and_return_conditional_losses while saving (showing 5 of 15). These functions will not be directly callable after loading.\n",
            "WARNING:absl:Found untraced functions such as lstm_cell_3_layer_call_and_return_conditional_losses, lstm_cell_3_layer_call_fn, lstm_cell_1_layer_call_and_return_conditional_losses, lstm_cell_1_layer_call_fn, lstm_cell_2_layer_call_and_return_conditional_losses while saving (showing 5 of 15). These functions will not be directly callable after loading.\n"
          ],
          "name": "stderr"
        },
        {
          "output_type": "stream",
          "text": [
            "INFO:tensorflow:Assets written to: drive/MyDrive/contador_de_silabas_metricas/assets\n"
          ],
          "name": "stdout"
        },
        {
          "output_type": "stream",
          "text": [
            "INFO:tensorflow:Assets written to: drive/MyDrive/contador_de_silabas_metricas/assets\n",
            "WARNING:absl:Found untraced functions such as lstm_cell_3_layer_call_and_return_conditional_losses, lstm_cell_3_layer_call_fn, lstm_cell_1_layer_call_and_return_conditional_losses, lstm_cell_1_layer_call_fn, lstm_cell_2_layer_call_and_return_conditional_losses while saving (showing 5 of 15). These functions will not be directly callable after loading.\n",
            "WARNING:absl:Found untraced functions such as lstm_cell_3_layer_call_and_return_conditional_losses, lstm_cell_3_layer_call_fn, lstm_cell_1_layer_call_and_return_conditional_losses, lstm_cell_1_layer_call_fn, lstm_cell_2_layer_call_and_return_conditional_losses while saving (showing 5 of 15). These functions will not be directly callable after loading.\n"
          ],
          "name": "stderr"
        },
        {
          "output_type": "stream",
          "text": [
            "INFO:tensorflow:Assets written to: drive/MyDrive/contador_de_silabas_metricas_final/assets\n"
          ],
          "name": "stdout"
        },
        {
          "output_type": "stream",
          "text": [
            "INFO:tensorflow:Assets written to: drive/MyDrive/contador_de_silabas_metricas_final/assets\n",
            "WARNING:absl:Found untraced functions such as lstm_cell_3_layer_call_and_return_conditional_losses, lstm_cell_3_layer_call_fn, lstm_cell_1_layer_call_and_return_conditional_losses, lstm_cell_1_layer_call_fn, lstm_cell_2_layer_call_and_return_conditional_losses while saving (showing 5 of 15). These functions will not be directly callable after loading.\n",
            "WARNING:absl:Found untraced functions such as lstm_cell_3_layer_call_and_return_conditional_losses, lstm_cell_3_layer_call_fn, lstm_cell_1_layer_call_and_return_conditional_losses, lstm_cell_1_layer_call_fn, lstm_cell_2_layer_call_and_return_conditional_losses while saving (showing 5 of 15). These functions will not be directly callable after loading.\n"
          ],
          "name": "stderr"
        },
        {
          "output_type": "stream",
          "text": [
            "INFO:tensorflow:Assets written to: drive/MyDrive/contador_de_silabas_metricas_backup/assets\n"
          ],
          "name": "stdout"
        },
        {
          "output_type": "stream",
          "text": [
            "INFO:tensorflow:Assets written to: drive/MyDrive/contador_de_silabas_metricas_backup/assets\n"
          ],
          "name": "stderr"
        }
      ]
    },
    {
      "cell_type": "code",
      "metadata": {
        "id": "meBoDB82YHaI"
      },
      "source": [
        "model_path = \"drive/MyDrive/contador_de_silabas_metricas/\"\n",
        "#model.save(model_path)\n",
        "model = keras.models.load_model(model_path)"
      ],
      "execution_count": 11,
      "outputs": []
    },
    {
      "cell_type": "code",
      "metadata": {
        "id": "hPO6odY8dQJ5",
        "colab": {
          "base_uri": "https://localhost:8080/",
          "height": 590
        },
        "outputId": "ddeb3858-0c86-4a78-c786-99ac0cf2babb"
      },
      "source": [
        "import matplotlib.pyplot as plt\n",
        "# list all data in history\n",
        "print(history.history.keys())\n",
        "# summarize history for accuracy\n",
        "plt.plot(history.history['accuracy'])\n",
        "plt.plot(history.history['val_accuracy'])\n",
        "plt.title('model accuracy')\n",
        "plt.ylabel('accuracy')\n",
        "plt.xlabel('epoch')\n",
        "plt.legend(['train', 'test'], loc='upper left')\n",
        "plt.show()\n",
        "# summarize history for loss\n",
        "plt.plot(history.history['loss'])\n",
        "plt.plot(history.history['val_loss'])\n",
        "plt.title('model loss')\n",
        "plt.ylabel('loss')\n",
        "plt.xlabel('epoch')\n",
        "plt.legend(['train', 'test'], loc='upper left')\n",
        "plt.show()"
      ],
      "execution_count": 12,
      "outputs": [
        {
          "output_type": "stream",
          "text": [
            "dict_keys(['loss', 'accuracy', 'val_loss', 'val_accuracy'])\n"
          ],
          "name": "stdout"
        },
        {
          "output_type": "display_data",
          "data": {
            "image/png": "[encoded data removed]",
            "text/plain": [
              "<Figure size 432x288 with 1 Axes>"
            ]
          },
          "metadata": {
            "tags": [],
            "needs_background": "light"
          }
        },
        {
          "output_type": "display_data",
          "data": {
            "image/png": "[encoded data removed]",
            "text/plain": [
              "<Figure size 432x288 with 1 Axes>"
            ]
          },
          "metadata": {
            "tags": [],
            "needs_background": "light"
          }
        }
      ]
    },
    {
      "cell_type": "code",
      "metadata": {
        "id": "YKHqPpETCY1c"
      },
      "source": [
        "print(model_path)"
      ],
      "execution_count": null,
      "outputs": []
    },
    {
      "cell_type": "code",
      "metadata": {
        "id": "H2Wtx5pmZnD8"
      },
      "source": [
        "#loads model\n",
        "#model = keras.models.load_model(model_path)\n"
      ],
      "execution_count": null,
      "outputs": []
    },
    {
      "cell_type": "code",
      "metadata": {
        "id": "jufHbwqAx46Y"
      },
      "source": [
        "model.summary()"
      ],
      "execution_count": null,
      "outputs": []
    },
    {
      "cell_type": "code",
      "metadata": {
        "id": "TLFmj6Hey_dK"
      },
      "source": [
        "model.input[0]"
      ],
      "execution_count": null,
      "outputs": []
    },
    {
      "cell_type": "code",
      "metadata": {
        "id": "6xky9BQmpHxU"
      },
      "source": [
        "# Define sampling models\n",
        "# Restore the model and construct the encoder and decoder.\n",
        "#model = keras.models.load_model(\"s2s\")\n",
        "\n",
        "# define inference encoder\n",
        "encoder_model = keras.Model(encoder_inputs, encoder_states)\n",
        "# define inference decoder\n",
        "decoder_state_input_h = Input(shape=(latent_dim*2,))\n",
        "decoder_state_input_c = Input(shape=(latent_dim*2,))\n",
        "decoder_states_inputs = [decoder_state_input_h, decoder_state_input_c]\n",
        "decoder_outputs, state_h, state_c = decoder_lstm(decoder_inputs, initial_state=decoder_states_inputs)\n",
        "decoder_states = [state_h, state_c]\n",
        "decoder_outputs = decoder_dense(decoder_outputs)\n",
        "decoder_model = keras.Model([decoder_inputs] + decoder_states_inputs, [decoder_outputs] + decoder_states)\n",
        "\n",
        "# Reverse-lookup token index to decode sequences back to\n",
        "# something readable.\n",
        "reverse_input_char_index = dict((i, char) for char, i in input_token_index.items())\n",
        "reverse_target_char_index = dict((i, char) for char, i in target_token_index.items())\n",
        "\n",
        "\n",
        "def decode_sequence(input_seq):\n",
        "    # Encode the input as state vectors.\n",
        "    states_value = encoder_model.predict(input_seq)\n",
        "\n",
        "    # Generate empty target sequence of length 1.\n",
        "    target_seq = np.zeros((1, 1, num_decoder_tokens))\n",
        "    # Populate the first character of target sequence with the start character.\n",
        "    target_seq[0, 0, target_token_index[\"\\t\"]] = 1.0\n",
        "\n",
        "    # Sampling loop for a batch of sequences\n",
        "    # (to simplify, here we assume a batch of size 1).\n",
        "    stop_condition = False\n",
        "    decoded_sentence = \"\"\n",
        "    while not stop_condition:\n",
        "        output_tokens, h, c = decoder_model.predict([target_seq] + states_value)\n",
        "        #print(\"output_tokens:\",output_tokens.shape)\n",
        "        #print(\"h:\",h.shape)\n",
        "        #print(\"c\",c.shape)\n",
        "\n",
        "        # Sample a token\n",
        "        sampled_token_index = np.argmax(output_tokens[0, -1, :])\n",
        "        sampled_char = reverse_target_char_index[sampled_token_index]\n",
        "        #print(\"sampled char:\",sampled_char)\n",
        "        decoded_sentence += sampled_char\n",
        "\n",
        "        # Exit condition: either hit max length\n",
        "        # or find stop character.\n",
        "        if sampled_char == \"\\n\" or len(decoded_sentence) > max_decoder_seq_length:\n",
        "            stop_condition = True\n",
        "\n",
        "        # Update the target sequence (of length 1).\n",
        "        target_seq = np.zeros((1, 1, num_decoder_tokens))\n",
        "        target_seq[0, 0, sampled_token_index] = 1.0\n",
        "\n",
        "        # Update states\n",
        "        states_value = [h, c]\n",
        "    return decoded_sentence"
      ],
      "execution_count": 243,
      "outputs": []
    },
    {
      "cell_type": "code",
      "metadata": {
        "id": "bKWF-eiiL06M"
      },
      "source": [
        "import re\n",
        "\n",
        "#Faz predict duma palavra a minha escolha.\n",
        "def encode_word(input_text):\n",
        "    input_encoded = np.zeros((1, max_encoder_seq_length, num_encoder_tokens), dtype=\"float32\")\n",
        "\n",
        "    for t, char in enumerate(input_text):\n",
        "      input_encoded[0, t, input_token_index[char]] = 1.0\n",
        "    return input_encoded\n",
        "\n",
        "#Faz predict duma palavra a minha escolha.\n",
        "def encode_data(input_text):\n",
        "    input_encoded = np.zeros((1, max_encoder_seq_length, num_encoder_tokens), dtype=\"float32\")\n",
        "\n",
        "    for t, char in enumerate(input_text):\n",
        "      input_encoded[0, t, input_token_index[char]] = 1.0\n",
        "    return input_encoded\n",
        "\n",
        "poemas = [\n",
        "#versos decassilábicos\n",
        "[\"As armas e os barões assinalados,\",\n",
        "\"Que da ocidental praia Lusitana,\",\n",
        "\"Por mares nunca de antes navegados,\",\n",
        "\"Passaram ainda além da Taprobana,\",\n",
        "\"Em perigos e guerras esforçados,\",\n",
        "\"Mais do que prometia a força humana,\",\n",
        "\"E entre gente remota edificaram\",\n",
        "\"Novo Reino, que tanto sublimaram;\"],\n",
        "\n",
        "[\n",
        " \"E também as memórias gloriosas\",\n",
        "\"Daqueles Reis, que foram dilatando\",\n",
        "\"A Fé, o Império, e as terras viciosas\",\n",
        "\"De África e de Ásia andaram devastando;\",\n",
        "\"E aqueles, que por obras valerosas\",\n",
        "\"Se vão da lei da morte libertando;\",\n",
        "\"Cantando espalharei por toda parte,\",\n",
        "\"Se a tanto me ajudar o engenho e arte.\"\n",
        "],\n",
        "[\n",
        "\"Cessem do sábio Grego e do Troiano\",\n",
        "\"As navegações grandes que fizeram;\",\n",
        "\"Cale-se de Alexandro e de Trajano\",\n",
        "\"A fama das vitórias que tiveram;\",\n",
        "\"Que eu canto o peito ilustre Lusitano,\",\n",
        "\"A quem Neptuno e Marte obedeceram:\",\n",
        "\"Cesse tudo o que a Musa antígua canta,\",\n",
        "\"Que outro valor mais alto se alevanta.\"\n",
        "],\n",
        "[\"E vós, Tágides minhas, pois criado\",\n",
        "\"Tendes em mim um novo engenho ardente\",\n",
        "\"Se sempre em verso humilde celebrado\",\n",
        "\"Foi de mim vosso rio alegremente,\",\n",
        "\"Dai-me agora um som alto e sublimado,\",\n",
        "\"Um estilo grandíloquo e corrente,\",\n",
        "\"Porque de vossas águas, Febo ordene\",\n",
        "\"Que não tenham inveja às de Hipocrene.\"],\n",
        "\n",
        "[\"Dai-me uma fúria grande e sonorosa\",\n",
        "\"E não de agreste avena ou frauta ruda\",\n",
        "\"Mas de tuba canora e belicosa\",\n",
        "\"Que o peito acende e a cor ao gesto muda;\",\n",
        "\"Dai-me igual canto aos feitos da famosa\",\n",
        "\"Gente vossa, que a Marte tanto ajuda;\",\n",
        "\"Que se espalhe e se cante no universo,\",\n",
        "\"Se tão sublime preço cabe em verso.\"],\n",
        "\n",
        "[\"E vós, ó bem nascida segurança\",\n",
        "\"Da Lusitana antígua liberdade,\",\n",
        "\"E não menos certíssima esperança\",\n",
        "\"De aumento da pequena Cristandade;\",\n",
        "\"Vós, ó novo temor da Maura lança,\",\n",
        "\"Maravilha fatal da nossa idade,\",\n",
        "\"Dada ao mundo por Deus, que todo o mande,\",\n",
        "\"Para do mundo a Deus dar parte grande;\",],\n",
        "\n",
        "[\"Vós, tenro e novo ramo florescente\",\n",
        "\"De uma árvore de Cristo mais amada\",\n",
        "\"Que nenhuma nascida no Ocidente,\",\n",
        "\"Cesárea ou Cristianíssima chamada;\",\n",
        "\"(Vede-o no vosso escudo, que presente\",\n",
        "\"Vos amostra a vitória já passada,\",\n",
        "\"Na qual vos deu por armas, e deixou\",\n",
        "\"As que Ele para si na Cruz tomou)\"],\n",
        "\n",
        "[\"Vós, poderoso Rei, cujo alto Império\",\n",
        "\"O Sol, logo em nascendo, vê primeiro;\",\n",
        "\"Vê-o também no meio do Hemisfério,\",\n",
        "\"E quando desce o deixa derradeiro;\",\n",
        "\"Vós, que esperamos jugo e vitupério\",\n",
        "\"Do torpe Ismaelita cavaleiro,\",\n",
        "\"Do Turco oriental, e do Gentio,\",\n",
        "\"Que inda bebe o licor do santo rio;\"],\n",
        "\n",
        "#heptassílabos\n",
        "[\"O poeta é um fingidor\",\n",
        "\"Finge tão completamente\",\n",
        "\"Que chega a fingir que é dor\",\n",
        "\"A dor que deveras sente\"],\n",
        "\n",
        "#decassilabos\n",
        "[\"Alma minha gentil que te partiste\",\n",
        " \"tão cedo desta vida descontente\",\n",
        " \"repousa lá no céu eternamente\",\n",
        " \"e viva eu cá na terra sempre triste\"]]\n",
        "\n",
        "vogais_atonas =[\"a\",\"e\",\"i\",\"o\",\"u\"]\n",
        "vogais = [\"à\",\"á\",\"a\",\"e\",\"i\",\"o\",\"u\",\"h\",\"é\"] \n",
        "conectores = [\"se\",\"que\",\"o\",\"a\",\"e\",\"as\",\"os\",\"da\",\"de\",\"do\",\"das\",\"de\",\"das\",\"na\",\"no\",\"na\",\"nos\",\"em\",\"me\"]\n",
        "\n",
        "def ends_in_vogal(syllabe):\n",
        "  syllabe = syllabe[0]\n",
        "  if syllabe[-1] in vogais_atonas: return True\n",
        "  else: return False\n",
        "\n",
        "def starts_with_vocal(syllabe):\n",
        "  if syllabe == []: return False\n",
        "  syllabe =syllabe[0]\n",
        "  if syllabe[0] in vogais: return True\n",
        "  else: return False\n",
        "\n",
        "def process_decoded_seq(seq,word):\n",
        "  seq = seq.replace(\"||\",\"|\").strip()\n",
        "  if len(seq) == len(word) and len(seq) < 3:\n",
        "    seq = word + \"$\"\n",
        "  for ele in [\"$|\",\"|$\"]:\n",
        "    seq = seq.replace(ele,\"$\")\n",
        "  seq = re.sub('\\$+', \"$\",seq)\n",
        "  seq = re.sub('\\|+', \"|\",seq)\n",
        "  seq = seq.replace(\"de|o\",\"deo\")\n",
        "  return seq\n",
        "\n",
        "def remove_last_separator(verse):\n",
        "  verse = verse[::-1]\n",
        "  saw_space = False\n",
        "  for ind in range(0,len(verse)):\n",
        "    if verse[ind] == \" \":\n",
        "      saw_space = True\n",
        "\n",
        "    if saw_space == True and (verse[ind] == \"|\" or verse[ind] == \"$\"):\n",
        "      res = verse[0:ind].strip() + verse[ind + 1:len(verse)].strip()\n",
        "      return res[::-1]\n",
        "  return verse[::-1].strip()\n",
        "\n",
        "#se a silaba terminar em vogal e\n",
        "#se estiver na ultima silaba da palavra e\n",
        "#ultima silaba for atona ou se a palavra for um conetor\n",
        "def check_sinalefa(metric_syllabe,word_syllabes,processed_word,s_ind,word):\n",
        "  metric_syllabe = [metric_syllabe[-1]]\n",
        "  if ends_in_vogal(metric_syllabe) and s_ind == len(word_syllabes)-1\\\n",
        "       and (processed_word[-1] != \"$\" or word in conectores):\n",
        "    return True\n",
        "  else:\n",
        "    return False\n",
        "\n",
        "\n",
        "def process_verse(verse):\n",
        "  processed_verse = \"\"\n",
        "  syllabe_counter = 0\n",
        "  sinalefa = False\n",
        "\n",
        "  #itera palavras do verso\n",
        "  for v_ind in range(0,len(verse)):\n",
        "    processed_verse += \" \"\n",
        "    word = verse[v_ind].strip()\n",
        "    input_seq = encode_word(word)\n",
        "    pre_processed_word = decode_sequence(input_seq)\n",
        "    processed_word = process_decoded_seq(pre_processed_word,word)\n",
        "    processed_verse += processed_word\n",
        "\n",
        "    #divide a palavra em silabas\n",
        "    word_syllabes = [x for x in processed_word.split(\"|\") if x and x != \"$\"]\n",
        "\n",
        "    #itera as silabas da palavra\n",
        "    for s_ind in range(0,len(word_syllabes)):\n",
        "\n",
        "      syllabe = word_syllabes[s_ind]\n",
        "\n",
        "      #Procura pela silaba tonica (separador $)\n",
        "      #o metric_syllabe tem dimensao 1 caso haja silaba tonica ou 2 caso nao haja\n",
        "      metric_syllabe = [x for x in syllabe.split(\"$\") if x and x]\n",
        "\n",
        "      #Caso da ultima silaba metrica da palavra e do verso\n",
        "      #adicionamos sempre uma silaba\n",
        "      if v_ind == len(verse)-1 and s_ind == len(word_syllabes)-1:\n",
        "        #caso do engenho-e-ar\n",
        "        if sinalefa == True and starts_with_vocal(metric_syllabe) == True :\n",
        "          syllabe_counter += 0\n",
        "          processed_verse = remove_last_separator(processed_verse)\n",
        "        else:\n",
        "          syllabe_counter += 1\n",
        "      else:\n",
        "        if sinalefa: \n",
        "          if  starts_with_vocal(metric_syllabe):\n",
        "            sinalefa = False\n",
        "            syllabe_counter += len(metric_syllabe)-1\n",
        "            processed_verse = remove_last_separator(processed_verse)\n",
        "            sinalefa = check_sinalefa(metric_syllabe,word_syllabes,processed_word,s_ind,word)\n",
        "            continue\n",
        "        syllabe_counter += len(metric_syllabe)        \n",
        "      #print(\"metric syllabe iterada:\",metric_syllabe)\n",
        "      sinalefa = check_sinalefa(metric_syllabe,word_syllabes,processed_word,s_ind,word)\n",
        "\n",
        "\n",
        "  return syllabe_counter,processed_verse\n",
        "\n",
        "def prepare_verse(verse):\n",
        "  for ele in [\",\",\";\",\".\",\":\",\")\",\"(\"]:\n",
        "    verse = verse.replace(ele,\"\")\n",
        "  tokens = verse.split()\n",
        "  for ind in range(0,len(tokens)):\n",
        "      verse = \" \".join(tokens)\n",
        "  return verse.lower().split()\n"
      ],
      "execution_count": 310,
      "outputs": []
    },
    {
      "cell_type": "code",
      "metadata": {
        "colab": {
          "base_uri": "https://localhost:8080/"
        },
        "id": "i-A6qrX2S8Ab",
        "outputId": "29e42e0b-7b51-4368-cbec-14e4468252c5"
      },
      "source": [
        "\n",
        "#Recebe 1 hot vector, retorna carater\n",
        "def get_input_char(embedding):\n",
        "  print(embedding)\n",
        "  print(input_characters)\n",
        "  for ind in range(0,len(embedding)):\n",
        "    if int(embedding[ind]) == 1:\n",
        "      return input_characters[ind]\n",
        "\n",
        "\n",
        "#input_seq = encode_data(\"severo\")\n",
        "input_seq = encode_data(\"ásia\")\n",
        "word = decode_sequence(input_seq)\n",
        "print(word)"
      ],
      "execution_count": 285,
      "outputs": [
        {
          "output_type": "stream",
          "text": [
            "á$sia|\n",
            "\n"
          ],
          "name": "stdout"
        }
      ]
    },
    {
      "cell_type": "code",
      "metadata": {
        "colab": {
          "base_uri": "https://localhost:8080/"
        },
        "id": "4-vgnACUS8gj",
        "outputId": "5204ba92-2f1e-4efc-8b6c-bd25fb32fb91"
      },
      "source": [
        "for versos in poemas:\n",
        "  for original_verse in versos:\n",
        "    verse = prepare_verse(original_verse)\n",
        "    metric_syllabe_counter,processed_verse = process_verse(verse)\n",
        "    print(\"--------------------------------------------\")\n",
        "    print(\"Verso orig: {}\".format(original_verse))\n",
        "    print(\"Verso proc: {} , Sílabas Métricas: {}\".format(processed_verse,metric_syllabe_counter))\n",
        "  print(\"#########################################################\")\n"
      ],
      "execution_count": 312,
      "outputs": [
        {
          "output_type": "stream",
          "text": [
            "--------------------------------------------\n",
            "Verso orig: As armas e os barões assinalados,\n",
            "Verso proc: as$ ar$mas| eos$ ba|rões$ as|si|na|la$dos| , Sílabas Métricas: 10\n",
            "--------------------------------------------\n",
            "Verso orig: Que da ocidental praia Lusitana,\n",
            "Verso proc: que$ dao|ci|den|tal$ prai$a| lu|si|ta$na| , Sílabas Métricas: 10\n",
            "--------------------------------------------\n",
            "Verso orig: Por mares nunca de antes navegados,\n",
            "Verso proc: por$ ma$res| nun$ca| dean$tes| na|ve|ga$dos| , Sílabas Métricas: 10\n",
            "--------------------------------------------\n",
            "Verso orig: Passaram ainda além da Taprobana,\n",
            "Verso proc: pas|sa$ram| ain$daa|lém$ da| ta|pro|ba$na| , Sílabas Métricas: 10\n",
            "--------------------------------------------\n",
            "Verso orig: Em perigos e guerras esforçados,\n",
            "Verso proc:  em$ pe|ri$gos| e$ guer$ras| es|for|ça$dos| , Sílabas Métricas: 10\n",
            "--------------------------------------------\n",
            "Verso orig: Mais do que prometia a força humana,\n",
            "Verso proc: mais$ do$ que$ pro|me|ti$aa$ for$çahu|ma$na| , Sílabas Métricas: 10\n",
            "--------------------------------------------\n",
            "Verso orig: E entre gente remota edificaram\n",
            "Verso proc: een$tre| gen$te| re|mo$tae|di|fi|ca$ram| , Sílabas Métricas: 10\n",
            "--------------------------------------------\n",
            "Verso orig: Novo Reino, que tanto sublimaram;\n",
            "Verso proc:  no$vo| rei$no| que$ tan$to| su|bli|ma$ram| , Sílabas Métricas: 10\n",
            "#########################################################\n",
            "--------------------------------------------\n",
            "Verso orig: E também as memórias gloriosas\n",
            "Verso proc:  e$ tam|bém$ as$ me|mó$rias| glo|ri|o$sas| , Sílabas Métricas: 10\n",
            "--------------------------------------------\n",
            "Verso orig: Daqueles Reis, que foram dilatando\n",
            "Verso proc:  da|que$les| reis$ que$ fo|ram$ di|la|tan$do| , Sílabas Métricas: 10\n",
            "--------------------------------------------\n",
            "Verso orig: A Fé, o Império, e as terras viciosas\n",
            "Verso proc: a$ fé$ oim|pé$rioeas$ ter$ras| vi|ci|o$sas| , Sílabas Métricas: 10\n",
            "--------------------------------------------\n",
            "Verso orig: De África e de Ásia andaram devastando;\n",
            "Verso proc: deá$fri|cae$ deá$siaan|da$ram| de|vas|tan$do| , Sílabas Métricas: 10\n",
            "--------------------------------------------\n",
            "Verso orig: E aqueles, que por obras valerosas\n",
            "Verso proc: ea|que$les| que$ por$ o$bras| va|le|ro$sas| , Sílabas Métricas: 10\n",
            "--------------------------------------------\n",
            "Verso orig: Se vão da lei da morte libertando;\n",
            "Verso proc:  se$ vão$ da| lei$ da| mor$te| li|ber|tan$do| , Sílabas Métricas: 10\n",
            "--------------------------------------------\n",
            "Verso orig: Cantando espalharei por toda parte,\n",
            "Verso proc: can|tan$does|pa|lha|rei$ por$ to$da| par$te| , Sílabas Métricas: 10\n",
            "--------------------------------------------\n",
            "Verso orig: Se a tanto me ajudar o engenho e arte.\n",
            "Verso proc: sea$ tan$to| mea|ju|dar$ oen|ge$nhoear$te| , Sílabas Métricas: 9\n",
            "#########################################################\n",
            "--------------------------------------------\n",
            "Verso orig: Cessem do sábio Grego e do Troiano\n",
            "Verso proc: ces$sem| do$ sá$bio| gre$goe$ do$ troi|a$no| , Sílabas Métricas: 10\n",
            "--------------------------------------------\n",
            "Verso orig: As navegações grandes que fizeram;\n",
            "Verso proc:  as$ na|ve|ga|ções$ gran$des| que$ fi|ze$ram| , Sílabas Métricas: 10\n",
            "--------------------------------------------\n",
            "Verso orig: Cale-se de Alexandro e de Trajano\n",
            "Verso proc: ca$le|se| dea|le|xan$droe$ de| tra|ja$no| , Sílabas Métricas: 10\n",
            "--------------------------------------------\n",
            "Verso orig: A fama das vitórias que tiveram;\n",
            "Verso proc:  a$ fa$ma| das| vi|tó$rias| que$ ti|ve$ram| , Sílabas Métricas: 10\n",
            "--------------------------------------------\n",
            "Verso orig: Que eu canto o peito ilustre Lusitano,\n",
            "Verso proc: queeu| can$too$ pei$toi|lus$tre| lu|si|ta$no| , Sílabas Métricas: 10\n",
            "--------------------------------------------\n",
            "Verso orig: A quem Neptuno e Marte obedeceram:\n",
            "Verso proc: a$ queem nep|tu$noe$ mar$teo|be|de|ce$ram| , Sílabas Métricas: 10\n",
            "--------------------------------------------\n",
            "Verso orig: Cesse tudo o que a Musa antígua canta,\n",
            "Verso proc: ces$se| tu$doo$ quea$ mu$saan|tí$gua| can$ta| , Sílabas Métricas: 10\n",
            "--------------------------------------------\n",
            "Verso orig: Que outro valor mais alto se alevanta.\n",
            "Verso proc: queou$tro| va|lor$ mais$ al$to| sea|le|van$ta| , Sílabas Métricas: 10\n",
            "#########################################################\n",
            "--------------------------------------------\n",
            "Verso orig: E vós, Tágides minhas, pois criado\n",
            "Verso proc:  e$ vós$ tá$gi|des| mi$nhas| pois$ cri|a$do| , Sílabas Métricas: 10\n",
            "--------------------------------------------\n",
            "Verso orig: Tendes em mim um novo engenho ardente\n",
            "Verso proc: ten$des| em$ mim$ um$ no$voen|ge$nhoar|den$te| , Sílabas Métricas: 10\n",
            "--------------------------------------------\n",
            "Verso orig: Se sempre em verso humilde celebrado\n",
            "Verso proc: se$ sem$preem$ ver$sohu|min$de| ce|le|bra$do| , Sílabas Métricas: 10\n",
            "--------------------------------------------\n",
            "Verso orig: Foi de mim vosso rio alegremente,\n",
            "Verso proc: foi$ de| mim$ vos$so| ri$oa|le|gre|men$te| , Sílabas Métricas: 10\n",
            "--------------------------------------------\n",
            "Verso orig: Dai-me agora um som alto e sublimado,\n",
            "Verso proc: dai$mea|go$raum$ som$ al$toe$ su|bli|ma$do| , Sílabas Métricas: 10\n",
            "--------------------------------------------\n",
            "Verso orig: Um estilo grandíloquo e corrente,\n",
            "Verso proc: um$ es|ti$lo| gran|dí|mu$quoe$ cor|ren$te| , Sílabas Métricas: 10\n",
            "--------------------------------------------\n",
            "Verso orig: Porque de vossas águas, Febo ordene\n",
            "Verso proc: por$que| de| vos$sas| á$guas| fe$boor|de$ne| , Sílabas Métricas: 10\n",
            "--------------------------------------------\n",
            "Verso orig: Que não tenham inveja às de Hipocrene.\n",
            "Verso proc: que$ não$ te|nham$ in|ve$jaàs$ dehi|po|cre$ne| , Sílabas Métricas: 10\n",
            "#########################################################\n",
            "--------------------------------------------\n",
            "Verso orig: Dai-me uma fúria grande e sonorosa\n",
            "Verso proc: dai$meu$ma| fú$ria| gran$dee$ so|no|ro$sa| , Sílabas Métricas: 10\n",
            "--------------------------------------------\n",
            "Verso orig: E não de agreste avena ou frauta ruda\n",
            "Verso proc: e$ não$ dea|gres$tea|ve$naou| frau$ta| ru$da| , Sílabas Métricas: 10\n",
            "--------------------------------------------\n",
            "Verso orig: Mas de tuba canora e belicosa\n",
            "Verso proc: mas| de| tu$ba| ca|no$rae$ be|li|co$sa| , Sílabas Métricas: 10\n",
            "--------------------------------------------\n",
            "Verso orig: Que o peito acende e a cor ao gesto muda;\n",
            "Verso proc: queo$ pei$toa|cen$deea$ cor$ ao$ ges$to| mu$da| , Sílabas Métricas: 10\n",
            "--------------------------------------------\n",
            "Verso orig: Dai-me igual canto aos feitos da famosa\n",
            "Verso proc: dai$mei|gual$ can$toaas$ fei$tos| da| fa|mo$sa| , Sílabas Métricas: 10\n",
            "--------------------------------------------\n",
            "Verso orig: Gente vossa, que a Marte tanto ajuda;\n",
            "Verso proc: gen$te| vos$sa| quea$ mar$te| tan$toa|ju$da| , Sílabas Métricas: 10\n",
            "--------------------------------------------\n",
            "Verso orig: Que se espalhe e se cante no universo,\n",
            "Verso proc: que$ sees|pa$lhee$ se$ can$te| nou|ni|ver$so| , Sílabas Métricas: 10\n",
            "--------------------------------------------\n",
            "Verso orig: Se tão sublime preço cabe em verso.\n",
            "Verso proc: se$ tão$ su|bli$me| pre$ço| ca$beem$ ver$so| , Sílabas Métricas: 10\n",
            "#########################################################\n",
            "--------------------------------------------\n",
            "Verso orig: E vós, ó bem nascida segurança\n",
            "Verso proc:  e$ vós$ ó$ bem$ nas|ci$da| se|gu|ran$ça| , Sílabas Métricas: 10\n",
            "--------------------------------------------\n",
            "Verso orig: Da Lusitana antígua liberdade,\n",
            "Verso proc: da| lu|si|ta$naan|tí$gua| li|ber|da$de| , Sílabas Métricas: 10\n",
            "--------------------------------------------\n",
            "Verso orig: E não menos certíssima esperança\n",
            "Verso proc: e$ não$ me$nos| cer|tís$si|maes|pe|ran$ça| , Sílabas Métricas: 10\n",
            "--------------------------------------------\n",
            "Verso orig: De aumento da pequena Cristandade;\n",
            "Verso proc: deau|men$to| da| pe|que$na| cris|tan|da$de| , Sílabas Métricas: 10\n",
            "--------------------------------------------\n",
            "Verso orig: Vós, ó novo temor da Maura lança,\n",
            "Verso proc:  vós$ ó$ no$vo| te|mor$ da| mau$ra| lan$ça| , Sílabas Métricas: 10\n",
            "--------------------------------------------\n",
            "Verso orig: Maravilha fatal da nossa idade,\n",
            "Verso proc: ma|ra|vi$lha| fa|tal$ da| nos$sai|da$de| , Sílabas Métricas: 10\n",
            "--------------------------------------------\n",
            "Verso orig: Dada ao mundo por Deus, que todo o mande,\n",
            "Verso proc: da$daao$ mun$do| por$ deus$ que$ to$doo$ man$de| , Sílabas Métricas: 10\n",
            "--------------------------------------------\n",
            "Verso orig: Para do mundo a Deus dar parte grande;\n",
            "Verso proc: pa$ra| do$ mun$doa$ deus$ dar$ par$te| gran$de| , Sílabas Métricas: 10\n",
            "#########################################################\n",
            "--------------------------------------------\n",
            "Verso orig: Vós, tenro e novo ramo florescente\n",
            "Verso proc: vós$ ten$roe$ no$vo| ra$mo| flo|res|cen$te| , Sílabas Métricas: 10\n",
            "--------------------------------------------\n",
            "Verso orig: De uma árvore de Cristo mais amada\n",
            "Verso proc: deu$maár$vo|re| de| cris$to| mais$ a|ma$da| , Sílabas Métricas: 10\n",
            "--------------------------------------------\n",
            "Verso orig: Que nenhuma nascida no Ocidente,\n",
            "Verso proc: que$ ne|nhu$ma| nas|ci$da| noo|ci|den$te| , Sílabas Métricas: 10\n",
            "--------------------------------------------\n",
            "Verso orig: Cesárea ou Cristianíssima chamada;\n",
            "Verso proc: ce|sá$riaou| cris|ti|a|nís$si|ma| cha|ma$da| , Sílabas Métricas: 11\n",
            "--------------------------------------------\n",
            "Verso orig: (Vede-o no vosso escudo, que presente\n",
            "Verso proc: ve$de| no$ vos$soes|cu$do| que$ pre|sen$te| , Sílabas Métricas: 10\n",
            "--------------------------------------------\n",
            "Verso orig: Vos amostra a vitória já passada,\n",
            "Verso proc: vos$ a|mos$traa$ vi|tó$ria| já$ pas|sa$da| , Sílabas Métricas: 10\n",
            "--------------------------------------------\n",
            "Verso orig: Na qual vos deu por armas, e deixou\n",
            "Verso proc:  na| qual$ vos$ deu$ por$ ar$mas| e$ dei|xou$ , Sílabas Métricas: 10\n",
            "--------------------------------------------\n",
            "Verso orig: As que Ele para si na Cruz tomou)\n",
            "Verso proc: as$ quee$le| pa$ra| si$ na| cróz$ to|mou$ , Sílabas Métricas: 10\n",
            "#########################################################\n",
            "--------------------------------------------\n",
            "Verso orig: Vós, poderoso Rei, cujo alto Império\n",
            "Verso proc: vós$ po|de|ro$so| rei$ cu$joal$toim|pé$rio| , Sílabas Métricas: 10\n",
            "--------------------------------------------\n",
            "Verso orig: O Sol, logo em nascendo, vê primeiro;\n",
            "Verso proc: o$ sol$ lo$goem$ nas|cen$do| v$ pri|mei$ro| , Sílabas Métricas: 10\n",
            "--------------------------------------------\n",
            "Verso orig: Vê-o também no meio do Hemisfério,\n",
            "Verso proc: vê$o| tam|bém$ no$ mei$o| dohe|mis|fé$rio| , Sílabas Métricas: 10\n",
            "--------------------------------------------\n",
            "Verso orig: E quando desce o deixa derradeiro;\n",
            "Verso proc: e$ quan$do| des$ceo$ dei$xa| der|ra|dei$ro| , Sílabas Métricas: 10\n",
            "--------------------------------------------\n",
            "Verso orig: Vós, que esperamos jugo e vitupério\n",
            "Verso proc: vós$ quees|pe|ra$mos| ju$goe$ vi|tu|pé$rio| , Sílabas Métricas: 10\n",
            "--------------------------------------------\n",
            "Verso orig: Do torpe Ismaelita cavaleiro,\n",
            "Verso proc: do$ tor$peis|ma|e|li$ta| ca|va|lei$ro| , Sílabas Métricas: 10\n",
            "--------------------------------------------\n",
            "Verso orig: Do Turco oriental, e do Gentio,\n",
            "Verso proc: do$ tur$coo|ri|en|tal$ e$ do$ gen|ti$o| , Sílabas Métricas: 10\n",
            "--------------------------------------------\n",
            "Verso orig: Que inda bebe o licor do santo rio;\n",
            "Verso proc: quein$da| be$beo$ li|cor$ do$ san$to| ri$o| , Sílabas Métricas: 10\n",
            "#########################################################\n",
            "--------------------------------------------\n",
            "Verso orig: O poeta é um fingidor\n",
            "Verso proc: o$ po|e$taé$ um$ fin|gi$dor| , Sílabas Métricas: 7\n",
            "--------------------------------------------\n",
            "Verso orig: Finge tão completamente\n",
            "Verso proc:  fin$ge| tão$ com|ple|ta|men$te| , Sílabas Métricas: 7\n",
            "--------------------------------------------\n",
            "Verso orig: Que chega a fingir que é dor\n",
            "Verso proc: que$ che$gaa$ fin|gir$ queé$ dor$ , Sílabas Métricas: 7\n",
            "--------------------------------------------\n",
            "Verso orig: A dor que deveras sente\n",
            "Verso proc:  a$ dor$ que$ de|ve$ras| sen$te| , Sílabas Métricas: 7\n",
            "#########################################################\n",
            "--------------------------------------------\n",
            "Verso orig: Alma minha gentil que te partiste\n",
            "Verso proc:  al$ma| mi$nha| gen|til$ que$ te$ par|tis$te| , Sílabas Métricas: 10\n",
            "--------------------------------------------\n",
            "Verso orig: tão cedo desta vida descontente\n",
            "Verso proc:  tão$ ce$do| des$ta| vi$da| des|con|ten$te| , Sílabas Métricas: 10\n",
            "--------------------------------------------\n",
            "Verso orig: repousa lá no céu eternamente\n",
            "Verso proc:  re|pou$sa| lá$ no$ céu$ e|ter|na|men$te| , Sílabas Métricas: 10\n",
            "--------------------------------------------\n",
            "Verso orig: e viva eu cá na terra sempre triste\n",
            "Verso proc: e$ vi$vaeu| cá$ na| ter$ra| sem$pre| tris$te| , Sílabas Métricas: 10\n",
            "#########################################################\n"
          ],
          "name": "stdout"
        }
      ]
    }
  ]
}